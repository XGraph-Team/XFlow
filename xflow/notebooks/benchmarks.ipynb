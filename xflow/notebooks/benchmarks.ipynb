{
  "cells": [
    {
      "cell_type": "code",
      "execution_count": null,
      "metadata": {
        "colab": {
          "base_uri": "https://localhost:8080/"
        },
        "id": "4LOjasBgsVx4",
        "outputId": "1278b837-ef6f-45b3-da13-1dd4dc7bf622"
      },
      "outputs": [],
      "source": [
        "%pip install xflow-net==0.0.10"
      ]
    },
    {
      "cell_type": "code",
      "execution_count": null,
      "metadata": {
        "id": "hS50MyHpB9hb"
      },
      "outputs": [],
      "source": [
        "from xflow.dataset.nx import BA, connSW\n",
        "from xflow.dataset.pyg import Cora\n",
        "from xflow.diffusion.SI import SI\n",
        "from xflow.diffusion.IC import IC\n",
        "from xflow.diffusion.LT import LT\n",
        "from xflow.seed import random as seed_random, degree as seed_degree, eigen as seed_eigen\n",
        "from xflow.method.im import celf, sigma\n",
        "from xflow.util import run"
      ]
    },
    {
      "cell_type": "code",
      "execution_count": null,
      "metadata": {
        "colab": {
          "base_uri": "https://localhost:8080/",
          "height": 798
        },
        "id": "bv8hJxP0CQYL",
        "outputId": "019327ac-cd75-46e2-ca79-4dc9e68a18a0"
      },
      "outputs": [],
      "source": [
        "# graphs to test\n",
        "fn = lambda: connSW(n=1000, beta=0.1)\n",
        "fn.__name__ = 'connSW'\n",
        "gs = [Cora, fn, BA]\n",
        "\n",
        "# diffusion models to test\n",
        "# TODO actually, no need to import in this main.py, because the diffusion models are embeded in the methods\n",
        "df = [SI, IC, LT]\n",
        "\n",
        "# seed configurations to test\n",
        "# TODO seeds are embeded in the methods too\n",
        "se = [seed_random, seed_degree, seed_eigen]\n",
        "\n",
        "# configurations of IM experiments\n",
        "from xflow.method.im import pi as im_pi, degree as im_degree, sigma as im_sigma, celfpp as im_celfpp, greedy as im_greedy\n",
        "me = [im_pi]\n",
        "rt = run (\n",
        "    graph = gs, diffusion = df, seeds = se,\n",
        "    method = me, eval = 'im', epoch = 10,\n",
        "    budget = 10,\n",
        "    output = [ 'animation', 'csv', 'fig'])\n",
        "\n",
        "# configurations of IBM experiments\n",
        "from xflow.method.ibm import pi as ibm_pi, degree as ibm_degree, sigma as ibm_sigma, greedy as ibm_greedy\n",
        "me = [ibm_pi, ibm_greedy]\n",
        "rt = run (\n",
        "    graph = gs, diffusion = df, seeds = se,\n",
        "    method = me, eval = 'ibm', epoch = 10,\n",
        "    budget = 10,\n",
        "    output = [ 'animation', 'csv', 'fig'])\n",
        "\n",
        "rt = run (\n",
        "    graph = gs, diffusion = df, seeds = se,\n",
        "    method = me, eval = 'sl', epoch = 10,\n",
        "    budget = 10,\n",
        "    output = [ 'animation', 'csv', 'fig'])"
      ]
    }
  ],
  "metadata": {
    "colab": {
      "provenance": []
    },
    "kernelspec": {
      "display_name": "Python 3",
      "name": "python3"
    },
    "language_info": {
      "name": "python"
    }
  },
  "nbformat": 4,
  "nbformat_minor": 0
}
