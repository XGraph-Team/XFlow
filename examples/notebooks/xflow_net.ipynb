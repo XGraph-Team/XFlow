{
  "nbformat": 4,
  "nbformat_minor": 0,
  "metadata": {
    "colab": {
      "provenance": [],
      "toc_visible": true
    },
    "kernelspec": {
      "name": "python3",
      "display_name": "Python 3"
    },
    "language_info": {
      "name": "python"
    }
  },
  "cells": [
    {
      "cell_type": "code",
      "execution_count": 17,
      "metadata": {
        "colab": {
          "base_uri": "https://localhost:8080/",
          "height": 853
        },
        "id": "4LOjasBgsVx4",
        "outputId": "dd097c69-5447-4dee-8f9b-22c5702ad26e"
      },
      "outputs": [
        {
          "output_type": "stream",
          "name": "stdout",
          "text": [
            "Looking in indexes: https://pypi.org/simple, https://us-python.pkg.dev/colab-wheels/public/simple/\n",
            "Collecting xflow-net==0.1.3\n",
            "  Downloading xflow_net-0.1.3-py3-none-any.whl (48 kB)\n",
            "\u001b[2K     \u001b[90m━━━━━━━━━━━━━━━━━━━━━━━━━━━━━━━━━━━━━━━━\u001b[0m \u001b[32m48.8/48.8 kB\u001b[0m \u001b[31m2.2 MB/s\u001b[0m eta \u001b[36m0:00:00\u001b[0m\n",
            "\u001b[?25hRequirement already satisfied: networkx in /usr/local/lib/python3.10/dist-packages (from xflow-net==0.1.3) (3.1)\n",
            "Requirement already satisfied: ndlib in /usr/local/lib/python3.10/dist-packages (from xflow-net==0.1.3) (5.1.1)\n",
            "Requirement already satisfied: torch-geometric in /usr/local/lib/python3.10/dist-packages (from xflow-net==0.1.3) (2.3.1)\n",
            "Requirement already satisfied: cosasi in /usr/local/lib/python3.10/dist-packages (from xflow-net==0.1.3) (0.0.4)\n",
            "Requirement already satisfied: netdispatch in /usr/local/lib/python3.10/dist-packages (from ndlib->xflow-net==0.1.3) (0.1.0)\n",
            "Requirement already satisfied: python-igraph in /usr/local/lib/python3.10/dist-packages (from ndlib->xflow-net==0.1.3) (0.10.4)\n",
            "Requirement already satisfied: numpy in /usr/local/lib/python3.10/dist-packages (from ndlib->xflow-net==0.1.3) (1.22.4)\n",
            "Requirement already satisfied: dynetx in /usr/local/lib/python3.10/dist-packages (from ndlib->xflow-net==0.1.3) (0.3.2)\n",
            "Requirement already satisfied: scipy in /usr/local/lib/python3.10/dist-packages (from ndlib->xflow-net==0.1.3) (1.10.1)\n",
            "Requirement already satisfied: bokeh in /usr/local/lib/python3.10/dist-packages (from ndlib->xflow-net==0.1.3) (2.4.3)\n",
            "Requirement already satisfied: future in /usr/local/lib/python3.10/dist-packages (from ndlib->xflow-net==0.1.3) (0.18.3)\n",
            "Requirement already satisfied: tqdm in /usr/local/lib/python3.10/dist-packages (from torch-geometric->xflow-net==0.1.3) (4.65.0)\n",
            "Requirement already satisfied: jinja2 in /usr/local/lib/python3.10/dist-packages (from torch-geometric->xflow-net==0.1.3) (3.1.2)\n",
            "Requirement already satisfied: requests in /usr/local/lib/python3.10/dist-packages (from torch-geometric->xflow-net==0.1.3) (2.27.1)\n",
            "Requirement already satisfied: pyparsing in /usr/local/lib/python3.10/dist-packages (from torch-geometric->xflow-net==0.1.3) (3.0.9)\n",
            "Requirement already satisfied: scikit-learn in /usr/local/lib/python3.10/dist-packages (from torch-geometric->xflow-net==0.1.3) (1.2.2)\n",
            "Requirement already satisfied: psutil>=5.8.0 in /usr/local/lib/python3.10/dist-packages (from torch-geometric->xflow-net==0.1.3) (5.9.5)\n",
            "Requirement already satisfied: packaging>=16.8 in /usr/local/lib/python3.10/dist-packages (from bokeh->ndlib->xflow-net==0.1.3) (23.1)\n",
            "Requirement already satisfied: pillow>=7.1.0 in /usr/local/lib/python3.10/dist-packages (from bokeh->ndlib->xflow-net==0.1.3) (8.4.0)\n",
            "Requirement already satisfied: PyYAML>=3.10 in /usr/local/lib/python3.10/dist-packages (from bokeh->ndlib->xflow-net==0.1.3) (6.0)\n",
            "Requirement already satisfied: tornado>=5.1 in /usr/local/lib/python3.10/dist-packages (from bokeh->ndlib->xflow-net==0.1.3) (6.3.1)\n",
            "Requirement already satisfied: typing-extensions>=3.10.0 in /usr/local/lib/python3.10/dist-packages (from bokeh->ndlib->xflow-net==0.1.3) (4.5.0)\n",
            "Requirement already satisfied: MarkupSafe>=2.0 in /usr/local/lib/python3.10/dist-packages (from jinja2->torch-geometric->xflow-net==0.1.3) (2.1.2)\n",
            "Requirement already satisfied: decorator in /usr/local/lib/python3.10/dist-packages (from dynetx->ndlib->xflow-net==0.1.3) (4.4.2)\n",
            "Requirement already satisfied: igraph==0.10.4 in /usr/local/lib/python3.10/dist-packages (from python-igraph->ndlib->xflow-net==0.1.3) (0.10.4)\n",
            "Requirement already satisfied: texttable>=1.6.2 in /usr/local/lib/python3.10/dist-packages (from igraph==0.10.4->python-igraph->ndlib->xflow-net==0.1.3) (1.6.7)\n",
            "Requirement already satisfied: urllib3<1.27,>=1.21.1 in /usr/local/lib/python3.10/dist-packages (from requests->torch-geometric->xflow-net==0.1.3) (1.26.15)\n",
            "Requirement already satisfied: certifi>=2017.4.17 in /usr/local/lib/python3.10/dist-packages (from requests->torch-geometric->xflow-net==0.1.3) (2022.12.7)\n",
            "Requirement already satisfied: charset-normalizer~=2.0.0 in /usr/local/lib/python3.10/dist-packages (from requests->torch-geometric->xflow-net==0.1.3) (2.0.12)\n",
            "Requirement already satisfied: idna<4,>=2.5 in /usr/local/lib/python3.10/dist-packages (from requests->torch-geometric->xflow-net==0.1.3) (3.4)\n",
            "Requirement already satisfied: joblib>=1.1.1 in /usr/local/lib/python3.10/dist-packages (from scikit-learn->torch-geometric->xflow-net==0.1.3) (1.2.0)\n",
            "Requirement already satisfied: threadpoolctl>=2.0.0 in /usr/local/lib/python3.10/dist-packages (from scikit-learn->torch-geometric->xflow-net==0.1.3) (3.1.0)\n",
            "Installing collected packages: xflow-net\n",
            "  Attempting uninstall: xflow-net\n",
            "    Found existing installation: xflow-net 0.1.2\n",
            "    Uninstalling xflow-net-0.1.2:\n",
            "      Successfully uninstalled xflow-net-0.1.2\n",
            "Successfully installed xflow-net-0.1.3\n"
          ]
        },
        {
          "output_type": "display_data",
          "data": {
            "application/vnd.colab-display-data+json": {
              "pip_warning": {
                "packages": [
                  "xflow"
                ]
              }
            }
          },
          "metadata": {}
        }
      ],
      "source": [
        "%pip install xflow-net==0.1.3"
      ]
    },
    {
      "cell_type": "code",
      "source": [
        "from xflow.dataset.nx import BA, connSW\n",
        "from xflow.dataset.pyg import Cora\n",
        "from xflow.diffusion.SI import SI\n",
        "from xflow.diffusion.IC import IC\n",
        "from xflow.diffusion.LT import LT\n",
        "from xflow.seed import random as seed_random, degree as seed_degree, eigen as seed_eigen\n",
        "from xflow.util import run"
      ],
      "metadata": {
        "id": "hS50MyHpB9hb"
      },
      "execution_count": 22,
      "outputs": []
    },
    {
      "cell_type": "code",
      "source": [
        "# graphs to test\n",
        "fn = lambda: connSW(n=1000, beta=0.1)\n",
        "fn.__name__ = 'connSW'\n",
        "gs = [fn, BA]\n",
        "\n",
        "# diffusion models to test\n",
        "# TODO actually, no need to import in this main.py, because the diffusion models are embeded in the methods\n",
        "df = [SI, IC, LT]\n",
        "\n",
        "# seed configurations to test\n",
        "# TODO seeds are embeded in the methods too\n",
        "se = [seed_random, seed_degree, seed_eigen]\n",
        "\n",
        "\n",
        "# configurations of IM experiments\n",
        "from xflow.method.im import pi as im_pi, degree as im_degree, sigma as im_sigma, eigen as im_eigen, celf as im_celf,celfpp as im_celfpp, greedy as im_greedy\n",
        "me = [im_pi, im_eigen]\n",
        "rt = run (\n",
        "    graph = gs, diffusion = df, seeds = se,\n",
        "    method = me, eval = 'im', epoch = 10,\n",
        "    budget = 10,\n",
        "    output = [ 'animation', 'csv', 'fig'])\n",
        "\n",
        "# configurations of IBM experiments\n",
        "from xflow.method.ibm import pi as ibm_pi, degree as ibm_degree, sigma as ibm_sigma, eigen as im_eigen, greedy as ibm_greedy\n",
        "me = [ibm_sigma, ibm_degree]\n",
        "rt = run (\n",
        "    graph = gs, diffusion = df, seeds = se,\n",
        "    method = me, eval = 'ibm', epoch = 10,\n",
        "    budget = 10,\n",
        "    output = [ 'animation', 'csv', 'fig'])\n",
        "\n",
        "# configurations of SL experiments\n",
        "from xflow.method.cosasi.source_inference.multiple_source.netsleuth import netsleuth, fast_multisource_netsleuth\n",
        "from xflow.method.cosasi.source_inference.multiple_source.lisn import fast_multisource_lisn\n",
        "from xflow.method.cosasi.source_inference.multiple_source.jordan import fast_multisource_jordan_centrality\n",
        "\n",
        "me = [netsleuth]\n",
        "rt = run (\n",
        "    graph = gs, diffusion = df, seeds = se,\n",
        "    method = me, eval = 'sl', epoch = 10,\n",
        "    budget = 10,\n",
        "    output = [ 'animation', 'csv', 'fig'])\n"
      ],
      "metadata": {
        "colab": {
          "base_uri": "https://localhost:8080/"
        },
        "id": "wGcpfIeNkjq6",
        "outputId": "64aa9f99-b5bc-4ee5-f12a-fd2847d89cf9"
      },
      "execution_count": 23,
      "outputs": [
        {
          "output_type": "stream",
          "name": "stdout",
          "text": [
            "Running IM :\n",
            "connSW\n",
            "Graph with 1000 nodes and 5000 edges\n",
            "pi\n",
            "[485, 526, 543, 622, 653, 679, 708, 928, 5, 62]\n",
            "eigen\n",
            "[584, 543, 170, 679, 151, 485, 768, 653, 430, 781]\n",
            "BA\n",
            "Graph with 1000 nodes and 4975 edges\n",
            "pi\n",
            "[7, 8, 17, 2, 0, 4, 6, 21, 13, 9]\n",
            "eigen\n",
            "[7, 8, 2, 0, 6, 17, 13, 21, 9, 4]\n",
            "Running IBM :\n",
            "connSW\n",
            "Graph with 1000 nodes and 5000 edges\n",
            "sigma\n",
            "[105, 954, 120, 26, 656, 823, 993, 370, 603, 95]\n",
            "degree\n",
            "[105, 26, 120, 656, 823, 954, 993, 6, 18, 34]\n",
            "BA\n",
            "Graph with 1000 nodes and 4975 edges\n",
            "sigma\n",
            "[0, 6, 7, 2, 10, 33, 13, 9, 18, 12]\n",
            "degree\n",
            "[0, 6, 7, 2, 10, 33, 36, 12, 15, 8]\n",
            "Running SL :\n",
            "connSW\n",
            "Graph with 1000 nodes and 5000 edges\n",
            "netsleuth\n",
            "Graph with 767 nodes and 3288 edges\n",
            "{(187, 638): 6}\n",
            "BA\n",
            "Graph with 1000 nodes and 4975 edges\n",
            "netsleuth\n",
            "Graph with 994 nodes and 4938 edges\n",
            "{(0, 8): 3}\n"
          ]
        }
      ]
    }
  ]
}