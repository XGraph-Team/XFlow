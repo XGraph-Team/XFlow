{
  "nbformat": 4,
  "nbformat_minor": 0,
  "metadata": {
    "colab": {
      "provenance": []
    },
    "kernelspec": {
      "name": "python3",
      "display_name": "Python 3"
    },
    "language_info": {
      "name": "python"
    }
  },
  "cells": [
    {
      "cell_type": "code",
      "execution_count": 13,
      "metadata": {
        "colab": {
          "base_uri": "https://localhost:8080/"
        },
        "id": "4LOjasBgsVx4",
        "outputId": "46e28801-6809-4c37-fde8-e28e194a39fa"
      },
      "outputs": [
        {
          "output_type": "stream",
          "name": "stdout",
          "text": [
            "Looking in indexes: https://pypi.org/simple, https://us-python.pkg.dev/colab-wheels/public/simple/\n",
            "Requirement already satisfied: xflow-net==0.0.9 in /usr/local/lib/python3.10/dist-packages (0.0.9)\n",
            "Requirement already satisfied: networkx in /usr/local/lib/python3.10/dist-packages (from xflow-net==0.0.9) (3.1)\n",
            "Requirement already satisfied: ndlib in /usr/local/lib/python3.10/dist-packages (from xflow-net==0.0.9) (5.1.1)\n",
            "Requirement already satisfied: torch-geometric in /usr/local/lib/python3.10/dist-packages (from xflow-net==0.0.9) (2.3.1)\n",
            "Requirement already satisfied: netdispatch in /usr/local/lib/python3.10/dist-packages (from ndlib->xflow-net==0.0.9) (0.1.0)\n",
            "Requirement already satisfied: python-igraph in /usr/local/lib/python3.10/dist-packages (from ndlib->xflow-net==0.0.9) (0.10.4)\n",
            "Requirement already satisfied: numpy in /usr/local/lib/python3.10/dist-packages (from ndlib->xflow-net==0.0.9) (1.22.4)\n",
            "Requirement already satisfied: dynetx in /usr/local/lib/python3.10/dist-packages (from ndlib->xflow-net==0.0.9) (0.3.2)\n",
            "Requirement already satisfied: scipy in /usr/local/lib/python3.10/dist-packages (from ndlib->xflow-net==0.0.9) (1.10.1)\n",
            "Requirement already satisfied: bokeh in /usr/local/lib/python3.10/dist-packages (from ndlib->xflow-net==0.0.9) (2.4.3)\n",
            "Requirement already satisfied: future in /usr/local/lib/python3.10/dist-packages (from ndlib->xflow-net==0.0.9) (0.18.3)\n",
            "Requirement already satisfied: tqdm in /usr/local/lib/python3.10/dist-packages (from torch-geometric->xflow-net==0.0.9) (4.65.0)\n",
            "Requirement already satisfied: jinja2 in /usr/local/lib/python3.10/dist-packages (from torch-geometric->xflow-net==0.0.9) (3.1.2)\n",
            "Requirement already satisfied: requests in /usr/local/lib/python3.10/dist-packages (from torch-geometric->xflow-net==0.0.9) (2.27.1)\n",
            "Requirement already satisfied: pyparsing in /usr/local/lib/python3.10/dist-packages (from torch-geometric->xflow-net==0.0.9) (3.0.9)\n",
            "Requirement already satisfied: scikit-learn in /usr/local/lib/python3.10/dist-packages (from torch-geometric->xflow-net==0.0.9) (1.2.2)\n",
            "Requirement already satisfied: psutil>=5.8.0 in /usr/local/lib/python3.10/dist-packages (from torch-geometric->xflow-net==0.0.9) (5.9.5)\n",
            "Requirement already satisfied: packaging>=16.8 in /usr/local/lib/python3.10/dist-packages (from bokeh->ndlib->xflow-net==0.0.9) (23.1)\n",
            "Requirement already satisfied: pillow>=7.1.0 in /usr/local/lib/python3.10/dist-packages (from bokeh->ndlib->xflow-net==0.0.9) (8.4.0)\n",
            "Requirement already satisfied: PyYAML>=3.10 in /usr/local/lib/python3.10/dist-packages (from bokeh->ndlib->xflow-net==0.0.9) (6.0)\n",
            "Requirement already satisfied: tornado>=5.1 in /usr/local/lib/python3.10/dist-packages (from bokeh->ndlib->xflow-net==0.0.9) (6.3.1)\n",
            "Requirement already satisfied: typing-extensions>=3.10.0 in /usr/local/lib/python3.10/dist-packages (from bokeh->ndlib->xflow-net==0.0.9) (4.5.0)\n",
            "Requirement already satisfied: MarkupSafe>=2.0 in /usr/local/lib/python3.10/dist-packages (from jinja2->torch-geometric->xflow-net==0.0.9) (2.1.2)\n",
            "Requirement already satisfied: decorator in /usr/local/lib/python3.10/dist-packages (from dynetx->ndlib->xflow-net==0.0.9) (4.4.2)\n",
            "Requirement already satisfied: igraph==0.10.4 in /usr/local/lib/python3.10/dist-packages (from python-igraph->ndlib->xflow-net==0.0.9) (0.10.4)\n",
            "Requirement already satisfied: texttable>=1.6.2 in /usr/local/lib/python3.10/dist-packages (from igraph==0.10.4->python-igraph->ndlib->xflow-net==0.0.9) (1.6.7)\n",
            "Requirement already satisfied: urllib3<1.27,>=1.21.1 in /usr/local/lib/python3.10/dist-packages (from requests->torch-geometric->xflow-net==0.0.9) (1.26.15)\n",
            "Requirement already satisfied: certifi>=2017.4.17 in /usr/local/lib/python3.10/dist-packages (from requests->torch-geometric->xflow-net==0.0.9) (2022.12.7)\n",
            "Requirement already satisfied: charset-normalizer~=2.0.0 in /usr/local/lib/python3.10/dist-packages (from requests->torch-geometric->xflow-net==0.0.9) (2.0.12)\n",
            "Requirement already satisfied: idna<4,>=2.5 in /usr/local/lib/python3.10/dist-packages (from requests->torch-geometric->xflow-net==0.0.9) (3.4)\n",
            "Requirement already satisfied: joblib>=1.1.1 in /usr/local/lib/python3.10/dist-packages (from scikit-learn->torch-geometric->xflow-net==0.0.9) (1.2.0)\n",
            "Requirement already satisfied: threadpoolctl>=2.0.0 in /usr/local/lib/python3.10/dist-packages (from scikit-learn->torch-geometric->xflow-net==0.0.9) (3.1.0)\n"
          ]
        }
      ],
      "source": [
        "%pip install xflow-net==0.0.9"
      ]
    },
    {
      "cell_type": "code",
      "source": [
        "from xflow.dataset.nx import BA, connSW\n",
        "from xflow.dataset.pyg import Cora\n",
        "from xflow.diffusion.SI import SI\n",
        "from xflow.diffusion.IC import IC\n",
        "from xflow.diffusion.LT import LT\n",
        "from xflow.seed import random as seed_random, degree as seed_degree, eigen as seed_eigen\n",
        "from xflow.method.im import celf, sigma\n",
        "from xflow.util import run"
      ],
      "metadata": {
        "id": "hS50MyHpB9hb"
      },
      "execution_count": 14,
      "outputs": []
    },
    {
      "cell_type": "code",
      "source": [
        "# graphs to test\n",
        "fn = lambda: connSW(n=1000, beta=0.1)\n",
        "fn.__name__ = 'connSW'\n",
        "gs = [Cora, fn, BA]\n",
        "\n",
        "# diffusion models to test\n",
        "# TODO actually, no need to import in this main.py, because the diffusion models are embeded in the methods\n",
        "df = [SI, IC, LT]\n",
        "\n",
        "# seed configurations to test\n",
        "# TODO seeds are embeded in the methods too\n",
        "se = [seed_random, seed_degree, seed_eigen]\n",
        "\n",
        "\n",
        "# configurations of IM experiments\n",
        "from xflow.method.im import pi as im_pi, degree as im_degree, sigma as im_sigma, eigen as im_eigen, celf as im_celf,celfpp as im_celfpp, greedy as im_greedy\n",
        "me = [im_pi, im_eigen]\n",
        "rt = run (\n",
        "    graph = gs, diffusion = df, seeds = se,\n",
        "    method = me, eval = 'im', epoch = 10,\n",
        "    budget = 10,\n",
        "    output = [ 'animation', 'csv', 'fig'])\n",
        "\n",
        "# configurations of IBM experiments\n",
        "from xflow.method.ibm import pi as ibm_pi, degree as ibm_degree, sigma as ibm_sigma, eigen as im_eigen, greedy as ibm_greedy\n",
        "me = [ibm_sigma, ibm_degree]\n",
        "rt = run (\n",
        "    graph = gs, diffusion = df, seeds = se,\n",
        "    method = me, eval = 'ibm', epoch = 10,\n",
        "    budget = 10,\n",
        "    output = [ 'animation', 'csv', 'fig'])\n",
        "\n",
        "# todo\n",
        "# # configurations of SL experiments\n",
        "# rt = run (\n",
        "#     graph = gs, diffusion = df, seeds = se,\n",
        "#     method = me, eval = 'sl', epoch = 10,\n",
        "#     budget = 10,\n",
        "#     output = [ 'animation', 'csv', 'fig'])\n"
      ],
      "metadata": {
        "colab": {
          "base_uri": "https://localhost:8080/"
        },
        "id": "bv8hJxP0CQYL",
        "outputId": "1815d35c-4e6c-4a82-b197-23c1555bf3b7"
      },
      "execution_count": 15,
      "outputs": [
        {
          "output_type": "stream",
          "name": "stdout",
          "text": [
            "Running IM :\n",
            "Cora\n",
            "Graph with 2485 nodes and 5069 edges\n",
            "pi\n",
            "[1358, 306, 1701, 1986, 1810, 1623, 2034, 88, 1013, 598]\n",
            "eigen\n",
            "[1358, 306, 1701, 1986, 1623, 1542, 88, 2045, 1810, 95]\n",
            "connSW\n",
            "Graph with 1000 nodes and 5000 edges\n",
            "pi\n",
            "[57, 356, 28, 258, 282, 390, 400, 501, 513, 46]\n",
            "eigen\n",
            "[726, 501, 57, 356, 282, 400, 28, 782, 672, 158]\n",
            "BA\n",
            "Graph with 1000 nodes and 4975 edges\n",
            "pi\n",
            "[0, 9, 3, 18, 7, 6, 10, 21, 1, 14]\n",
            "eigen\n",
            "[0, 9, 3, 7, 6, 18, 10, 14, 1, 8]\n",
            "Running IBM :\n",
            "Cora\n",
            "Graph with 2485 nodes and 5069 edges\n",
            "sigma\n",
            "[1358, 306, 1986, 1701, 2045, 1810, 1623, 88, 1013, 1542]\n",
            "degree\n",
            "[1358, 306, 1701, 1986, 1810, 1623, 2034, 88, 1013, 598]\n",
            "connSW\n",
            "Graph with 1000 nodes and 5000 edges\n",
            "sigma\n",
            "[941, 965, 72, 31, 567, 876, 424, 611, 748, 869]\n",
            "degree\n",
            "[941, 31, 68, 424, 567, 611, 748, 869, 876, 965]\n",
            "BA\n",
            "Graph with 1000 nodes and 4975 edges\n",
            "sigma\n",
            "[0, 6, 2, 9, 8, 14, 37, 17, 24, 7]\n",
            "degree\n",
            "[0, 6, 2, 9, 7, 17, 37, 24, 8, 19]\n"
          ]
        }
      ]
    }
  ]
}